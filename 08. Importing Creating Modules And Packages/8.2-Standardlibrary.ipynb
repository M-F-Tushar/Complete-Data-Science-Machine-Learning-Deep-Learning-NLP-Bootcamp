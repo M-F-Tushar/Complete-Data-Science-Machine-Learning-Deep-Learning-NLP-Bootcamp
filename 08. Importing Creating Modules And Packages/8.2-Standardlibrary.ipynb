{
 "cells": [
  {
   "cell_type": "markdown",
   "metadata": {},
   "source": [
    "##### Standard Library Overview\n",
    "Python's Standard Library is a vast collection of modules and packages that come bundled with Python, providing a wide range of functionalities out of the box. Here's an overview of some of the most commonly used modules and packages in the Python Standard Library."
   ]
  },
  {
   "cell_type": "code",
   "execution_count": 1,
   "metadata": {},
   "outputs": [
    {
     "name": "stdout",
     "output_type": "stream",
     "text": [
      "array('i', [1, 2, 3, 4])\n"
     ]
    }
   ],
   "source": [
    "import array\n",
    "arr=array.array('i',[1,2,3,4]) # arry takes two arguments, typecode and initializer.\n",
    "print(arr) "
   ]
  },
  {
   "cell_type": "code",
   "execution_count": 2,
   "metadata": {},
   "outputs": [
    {
     "name": "stdout",
     "output_type": "stream",
     "text": [
      "4.0\n",
      "3.141592653589793\n"
     ]
    }
   ],
   "source": [
    "import math\n",
    "print(math.sqrt(16))\n",
    "print(math.pi)\n"
   ]
  },
  {
   "cell_type": "code",
   "execution_count": 3,
   "metadata": {},
   "outputs": [
    {
     "name": "stdout",
     "output_type": "stream",
     "text": [
      "4\n",
      "apple\n"
     ]
    }
   ],
   "source": [
    "## random \n",
    "\n",
    "import random\n",
    "print(random.randint(1,10)) # returns a random integer between 1 and 10\n",
    "print(random.choice(['apple','banana','cherry'])) # returns a random element from the list"
   ]
  },
  {
   "cell_type": "code",
   "execution_count": 4,
   "metadata": {},
   "outputs": [
    {
     "name": "stdout",
     "output_type": "stream",
     "text": [
      "c:\\Users\\User\\OneDrive\\Documents\\Complete Data Science,Machine Learning,DL,NLP Bootcamp\\Complete-Python-Bootcamp-main\\5-Modules\n"
     ]
    }
   ],
   "source": [
    "### File And Directory Access\n",
    "\n",
    "import os\n",
    "print(os.getcwd()) # returns the current working directory"
   ]
  },
  {
   "cell_type": "code",
   "execution_count": 7,
   "metadata": {},
   "outputs": [],
   "source": [
    "os.mkdir('test_dir') # creates a new directory named 'test_dir'"
   ]
  },
  {
   "cell_type": "code",
   "execution_count": 8,
   "metadata": {},
   "outputs": [
    {
     "data": {
      "text/plain": [
       "'destination.txt'"
      ]
     },
     "execution_count": 8,
     "metadata": {},
     "output_type": "execute_result"
    }
   ],
   "source": [
    "## High level operations on files and collection of files\n",
    "import shutil \n",
    "shutil.copyfile('source.txt','destination.txt') # copies the content of 'source.txt' to 'destination.txt'"
   ]
  },
  {
   "cell_type": "code",
   "execution_count": 9,
   "metadata": {},
   "outputs": [
    {
     "name": "stdout",
     "output_type": "stream",
     "text": [
      "{\"name\": \"Krish\", \"age\": 25}\n",
      "<class 'str'>\n",
      "{'name': 'Krish', 'age': 25}\n",
      "<class 'dict'>\n"
     ]
    }
   ],
   "source": [
    "## Data Serialization\n",
    "import json\n",
    "data={'name':'Krish','age':25}\n",
    "\n",
    "json_str=json.dumps(data) # converts Python object to JSON string\n",
    "print(json_str)\n",
    "print(type(json_str))\n",
    "\n",
    "parsed_data=json.loads(json_str) # converts JSON string back to Python object or dictionary\n",
    "print(parsed_data)\n",
    "print(type(parsed_data))\n"
   ]
  },
  {
   "cell_type": "code",
   "execution_count": 11,
   "metadata": {},
   "outputs": [
    {
     "name": "stdout",
     "output_type": "stream",
     "text": [
      "['name', 'age']\n",
      "['Krish', '32']\n"
     ]
    }
   ],
   "source": [
    "## csv\n",
    "\n",
    "import csv\n",
    "\n",
    "with open('example.csv',mode='w',newline='') as file: # open takes two arguments, file name and mode\n",
    "    writer=csv.writer(file) # writer object is used to write data to the CSV file\n",
    "    # newline='' is used to prevent extra blank lines in the CSV file\n",
    "    writer.writerow(['name','age'])\n",
    "    writer.writerow(['Krish',32])\n",
    "\n",
    "with open('example.csv',mode='r') as file: # open the file in read mode\n",
    "    reader=csv.reader(file) # reader object is used to read data from the CSV file\n",
    "    for row in reader:\n",
    "        print(row)"
   ]
  },
  {
   "cell_type": "code",
   "execution_count": 13,
   "metadata": {},
   "outputs": [
    {
     "name": "stdout",
     "output_type": "stream",
     "text": [
      "2025-06-12 09:42:52.731239\n",
      "2025-06-11 09:42:52.731239\n"
     ]
    }
   ],
   "source": [
    "## datetime\n",
    "from datetime import datetime,timedelta\n",
    "\n",
    "now=datetime.now() # datetime.now() returns the current date and time\n",
    "print(now)\n",
    "\n",
    "yesterday=now-timedelta(days=1) # timedelta is used to represent a duration, the difference between two dates or times\n",
    "\n",
    "print(yesterday)"
   ]
  },
  {
   "cell_type": "code",
   "execution_count": 15,
   "metadata": {},
   "outputs": [
    {
     "name": "stdout",
     "output_type": "stream",
     "text": [
      "1749699873.9457815\n",
      "1749699875.948586\n"
     ]
    }
   ],
   "source": [
    "## time\n",
    "import time\n",
    "print(time.time()) # time.time() returns the current time in seconds since the epoch (January 1, 1970)\n",
    "time.sleep(2)\n",
    "print(time.time()) # time.sleep(2) pauses the execution for 2 seconds"
   ]
  },
  {
   "cell_type": "code",
   "execution_count": 16,
   "metadata": {},
   "outputs": [
    {
     "name": "stdout",
     "output_type": "stream",
     "text": [
      "123\n"
     ]
    }
   ],
   "source": [
    "## Regular expresiion\n",
    "import re # re module provides support for regular expressions in Python\n",
    "\n",
    "pattern=r'\\d+' # \\d+ matches one or more digits\n",
    "text='There are 123 apples 456'\n",
    "match=re.search(pattern,text) # re.search() searches for the pattern in the text\n",
    "print(match.group())"
   ]
  },
  {
   "cell_type": "markdown",
   "metadata": {},
   "source": [
    "#### Conclusion\n",
    "Python's Standard Library is extensive and provides tools for almost any task you can think of, from file handling to web services, from data serialization to concurrent execution. Familiarizing yourself with the modules and packages available in the Standard Library can significantly enhance your ability to write efficient and effective Python programs."
   ]
  }
 ],
 "metadata": {
  "kernelspec": {
   "display_name": "Python 3",
   "language": "python",
   "name": "python3"
  },
  "language_info": {
   "codemirror_mode": {
    "name": "ipython",
    "version": 3
   },
   "file_extension": ".py",
   "mimetype": "text/x-python",
   "name": "python",
   "nbconvert_exporter": "python",
   "pygments_lexer": "ipython3",
   "version": "3.13.2"
  }
 },
 "nbformat": 4,
 "nbformat_minor": 2
}
